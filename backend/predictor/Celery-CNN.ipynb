{
 "cells": [
  {
   "cell_type": "markdown",
   "metadata": {
    "colab_type": "text",
    "id": "BMghs7ae_BHv"
   },
   "source": [
    "# USA Produce Price Prediction"
   ]
  },
  {
   "cell_type": "markdown",
   "metadata": {
    "colab_type": "text",
    "id": "OV5IdRz6DOYc"
   },
   "source": [
    "### Load needed files"
   ]
  },
  {
   "cell_type": "code",
   "execution_count": 319,
   "metadata": {
    "colab": {},
    "colab_type": "code",
    "id": "b8NgnmTSDTJG"
   },
   "outputs": [],
   "source": [
    "import pandas as pd\n",
    "import numpy as np\n",
    "import tensorflow as tf\n",
    "from sklearn.model_selection import TimeSeriesSplit"
   ]
  },
  {
   "cell_type": "code",
   "execution_count": 320,
   "metadata": {
    "colab": {
     "base_uri": "https://localhost:8080/",
     "height": 235
    },
    "colab_type": "code",
    "executionInfo": {
     "elapsed": 1674,
     "status": "ok",
     "timestamp": 1535297175163,
     "user": {
      "displayName": "Robert John",
      "photoUrl": "//lh6.googleusercontent.com/-TN4Oz1jiPEs/AAAAAAAAAAI/AAAAAAAAHe0/G8yetdDySy8/s50-c-k-no/photo.jpg",
      "userId": "109381795230983416800"
     },
     "user_tz": -60
    },
    "id": "PGnkYLI5DYzB",
    "outputId": "12a1c006-ba9d-4200-e6e2-e12b522ee51f"
   },
   "outputs": [
    {
     "data": {
      "text/html": [
       "<div>\n",
       "<style scoped>\n",
       "    .dataframe tbody tr th:only-of-type {\n",
       "        vertical-align: middle;\n",
       "    }\n",
       "\n",
       "    .dataframe tbody tr th {\n",
       "        vertical-align: top;\n",
       "    }\n",
       "\n",
       "    .dataframe thead th {\n",
       "        text-align: right;\n",
       "    }\n",
       "</style>\n",
       "<table border=\"1\" class=\"dataframe\">\n",
       "  <thead>\n",
       "    <tr style=\"text-align: right;\">\n",
       "      <th></th>\n",
       "      <th>Date</th>\n",
       "      <th>Price</th>\n",
       "      <th>Season</th>\n",
       "      <th>FMC</th>\n",
       "      <th>CVGW</th>\n",
       "      <th>DE</th>\n",
       "      <th>Rating</th>\n",
       "    </tr>\n",
       "  </thead>\n",
       "  <tbody>\n",
       "    <tr>\n",
       "      <th>0</th>\n",
       "      <td>2002-05-01</td>\n",
       "      <td>89.6</td>\n",
       "      <td>0.5</td>\n",
       "      <td>1.132779</td>\n",
       "      <td>1.059828</td>\n",
       "      <td>1.054862</td>\n",
       "      <td>60</td>\n",
       "    </tr>\n",
       "    <tr>\n",
       "      <th>1</th>\n",
       "      <td>2002-06-01</td>\n",
       "      <td>115.9</td>\n",
       "      <td>1.0</td>\n",
       "      <td>1.167839</td>\n",
       "      <td>0.985112</td>\n",
       "      <td>1.090969</td>\n",
       "      <td>80</td>\n",
       "    </tr>\n",
       "    <tr>\n",
       "      <th>2</th>\n",
       "      <td>2002-07-01</td>\n",
       "      <td>133.1</td>\n",
       "      <td>1.0</td>\n",
       "      <td>0.979278</td>\n",
       "      <td>1.054355</td>\n",
       "      <td>1.128463</td>\n",
       "      <td>80</td>\n",
       "    </tr>\n",
       "    <tr>\n",
       "      <th>3</th>\n",
       "      <td>2002-08-01</td>\n",
       "      <td>102.7</td>\n",
       "      <td>1.0</td>\n",
       "      <td>0.985175</td>\n",
       "      <td>0.995449</td>\n",
       "      <td>1.131597</td>\n",
       "      <td>80</td>\n",
       "    </tr>\n",
       "    <tr>\n",
       "      <th>4</th>\n",
       "      <td>2002-09-01</td>\n",
       "      <td>87.2</td>\n",
       "      <td>1.0</td>\n",
       "      <td>0.969056</td>\n",
       "      <td>1.039476</td>\n",
       "      <td>1.170757</td>\n",
       "      <td>80</td>\n",
       "    </tr>\n",
       "  </tbody>\n",
       "</table>\n",
       "</div>"
      ],
      "text/plain": [
       "         Date  Price  Season       FMC      CVGW        DE  Rating\n",
       "0  2002-05-01   89.6     0.5  1.132779  1.059828  1.054862      60\n",
       "1  2002-06-01  115.9     1.0  1.167839  0.985112  1.090969      80\n",
       "2  2002-07-01  133.1     1.0  0.979278  1.054355  1.128463      80\n",
       "3  2002-08-01  102.7     1.0  0.985175  0.995449  1.131597      80\n",
       "4  2002-09-01   87.2     1.0  0.969056  1.039476  1.170757      80"
      ]
     },
     "execution_count": 320,
     "metadata": {},
     "output_type": "execute_result"
    }
   ],
   "source": [
    "train_df = pd.read_csv('stocked_tomato2.csv')\n",
    "train_df.head()"
   ]
  },
  {
   "cell_type": "code",
   "execution_count": 321,
   "metadata": {
    "colab": {
     "base_uri": "https://localhost:8080/",
     "height": 235
    },
    "colab_type": "code",
    "executionInfo": {
     "elapsed": 782,
     "status": "ok",
     "timestamp": 1527605865887,
     "user": {
      "displayName": "Robert John",
      "photoUrl": "//lh6.googleusercontent.com/-TN4Oz1jiPEs/AAAAAAAAAAI/AAAAAAAABbY/63KUi5jwjBM/s50-c-k-no/photo.jpg",
      "userId": "109381795230983416800"
     },
     "user_tz": -60
    },
    "id": "UM9WU2xVEEti",
    "outputId": "cb7e85cb-3ada-4d9f-d183-363cb2e37ef4"
   },
   "outputs": [
    {
     "data": {
      "text/html": [
       "<div>\n",
       "<style scoped>\n",
       "    .dataframe tbody tr th:only-of-type {\n",
       "        vertical-align: middle;\n",
       "    }\n",
       "\n",
       "    .dataframe tbody tr th {\n",
       "        vertical-align: top;\n",
       "    }\n",
       "\n",
       "    .dataframe thead th {\n",
       "        text-align: right;\n",
       "    }\n",
       "</style>\n",
       "<table border=\"1\" class=\"dataframe\">\n",
       "  <thead>\n",
       "    <tr style=\"text-align: right;\">\n",
       "      <th></th>\n",
       "      <th>Date</th>\n",
       "      <th>Price</th>\n",
       "      <th>Season</th>\n",
       "      <th>FMC</th>\n",
       "      <th>CVGW</th>\n",
       "      <th>DE</th>\n",
       "      <th>Rating</th>\n",
       "    </tr>\n",
       "  </thead>\n",
       "  <tbody>\n",
       "    <tr>\n",
       "      <th>0</th>\n",
       "      <td>2017-01-01</td>\n",
       "      <td>194.3</td>\n",
       "      <td>0.0</td>\n",
       "      <td>9.014649</td>\n",
       "      <td>11.939167</td>\n",
       "      <td>7.871172</td>\n",
       "      <td>40</td>\n",
       "    </tr>\n",
       "    <tr>\n",
       "      <th>1</th>\n",
       "      <td>2017-02-01</td>\n",
       "      <td>215.0</td>\n",
       "      <td>0.0</td>\n",
       "      <td>9.343085</td>\n",
       "      <td>13.069696</td>\n",
       "      <td>7.922163</td>\n",
       "      <td>40</td>\n",
       "    </tr>\n",
       "    <tr>\n",
       "      <th>2</th>\n",
       "      <td>2017-03-01</td>\n",
       "      <td>210.9</td>\n",
       "      <td>0.0</td>\n",
       "      <td>11.277569</td>\n",
       "      <td>13.569718</td>\n",
       "      <td>7.940816</td>\n",
       "      <td>40</td>\n",
       "    </tr>\n",
       "    <tr>\n",
       "      <th>3</th>\n",
       "      <td>2017-04-01</td>\n",
       "      <td>256.7</td>\n",
       "      <td>0.0</td>\n",
       "      <td>11.398496</td>\n",
       "      <td>14.408596</td>\n",
       "      <td>8.454859</td>\n",
       "      <td>40</td>\n",
       "    </tr>\n",
       "    <tr>\n",
       "      <th>4</th>\n",
       "      <td>2017-05-01</td>\n",
       "      <td>273.4</td>\n",
       "      <td>0.5</td>\n",
       "      <td>11.683143</td>\n",
       "      <td>14.449393</td>\n",
       "      <td>9.077213</td>\n",
       "      <td>60</td>\n",
       "    </tr>\n",
       "  </tbody>\n",
       "</table>\n",
       "</div>"
      ],
      "text/plain": [
       "         Date  Price  Season        FMC       CVGW        DE  Rating\n",
       "0  2017-01-01  194.3     0.0   9.014649  11.939167  7.871172      40\n",
       "1  2017-02-01  215.0     0.0   9.343085  13.069696  7.922163      40\n",
       "2  2017-03-01  210.9     0.0  11.277569  13.569718  7.940816      40\n",
       "3  2017-04-01  256.7     0.0  11.398496  14.408596  8.454859      40\n",
       "4  2017-05-01  273.4     0.5  11.683143  14.449393  9.077213      60"
      ]
     },
     "execution_count": 321,
     "metadata": {},
     "output_type": "execute_result"
    }
   ],
   "source": [
    "test_df = pd.read_csv('stocked_tomato2_test.csv')\n",
    "test_df.head()"
   ]
  },
  {
   "cell_type": "code",
   "execution_count": 322,
   "metadata": {
    "colab": {},
    "colab_type": "code",
    "id": "X_2J1JdNEkCG"
   },
   "outputs": [
    {
     "data": {
      "text/html": [
       "<div>\n",
       "<style scoped>\n",
       "    .dataframe tbody tr th:only-of-type {\n",
       "        vertical-align: middle;\n",
       "    }\n",
       "\n",
       "    .dataframe tbody tr th {\n",
       "        vertical-align: top;\n",
       "    }\n",
       "\n",
       "    .dataframe thead th {\n",
       "        text-align: right;\n",
       "    }\n",
       "</style>\n",
       "<table border=\"1\" class=\"dataframe\">\n",
       "  <thead>\n",
       "    <tr style=\"text-align: right;\">\n",
       "      <th></th>\n",
       "      <th>Price</th>\n",
       "      <th>Season</th>\n",
       "      <th>FMC</th>\n",
       "      <th>CVGW</th>\n",
       "      <th>DE</th>\n",
       "      <th>Rating</th>\n",
       "    </tr>\n",
       "  </thead>\n",
       "  <tbody>\n",
       "    <tr>\n",
       "      <th>0</th>\n",
       "      <td>89.6</td>\n",
       "      <td>0.5</td>\n",
       "      <td>1.132779</td>\n",
       "      <td>1.059828</td>\n",
       "      <td>1.054862</td>\n",
       "      <td>60</td>\n",
       "    </tr>\n",
       "    <tr>\n",
       "      <th>1</th>\n",
       "      <td>115.9</td>\n",
       "      <td>1.0</td>\n",
       "      <td>1.167839</td>\n",
       "      <td>0.985112</td>\n",
       "      <td>1.090969</td>\n",
       "      <td>80</td>\n",
       "    </tr>\n",
       "    <tr>\n",
       "      <th>2</th>\n",
       "      <td>133.1</td>\n",
       "      <td>1.0</td>\n",
       "      <td>0.979278</td>\n",
       "      <td>1.054355</td>\n",
       "      <td>1.128463</td>\n",
       "      <td>80</td>\n",
       "    </tr>\n",
       "    <tr>\n",
       "      <th>3</th>\n",
       "      <td>102.7</td>\n",
       "      <td>1.0</td>\n",
       "      <td>0.985175</td>\n",
       "      <td>0.995449</td>\n",
       "      <td>1.131597</td>\n",
       "      <td>80</td>\n",
       "    </tr>\n",
       "    <tr>\n",
       "      <th>4</th>\n",
       "      <td>87.2</td>\n",
       "      <td>1.0</td>\n",
       "      <td>0.969056</td>\n",
       "      <td>1.039476</td>\n",
       "      <td>1.170757</td>\n",
       "      <td>80</td>\n",
       "    </tr>\n",
       "  </tbody>\n",
       "</table>\n",
       "</div>"
      ],
      "text/plain": [
       "   Price  Season       FMC      CVGW        DE  Rating\n",
       "0   89.6     0.5  1.132779  1.059828  1.054862      60\n",
       "1  115.9     1.0  1.167839  0.985112  1.090969      80\n",
       "2  133.1     1.0  0.979278  1.054355  1.128463      80\n",
       "3  102.7     1.0  0.985175  0.995449  1.131597      80\n",
       "4   87.2     1.0  0.969056  1.039476  1.170757      80"
      ]
     },
     "execution_count": 322,
     "metadata": {},
     "output_type": "execute_result"
    }
   ],
   "source": [
    "predictors = ['Price','Season','FMC','CVGW','DE']\n",
    "trainset = pd.DataFrame.drop(train_df, labels='Date', axis = 1)\n",
    "target = \"Price\"\n",
    "trainset.head()"
   ]
  },
  {
   "cell_type": "markdown",
   "metadata": {
    "colab_type": "text",
    "id": "hdgTTLyiE1cd"
   },
   "source": [
    "### we must normalize our data for neural networks to perform optimally"
   ]
  },
  {
   "cell_type": "code",
   "execution_count": 323,
   "metadata": {
    "colab": {},
    "colab_type": "code",
    "id": "d6NCcnSDFVlD"
   },
   "outputs": [],
   "source": [
    "from sklearn.preprocessing import MinMaxScaler"
   ]
  },
  {
   "cell_type": "code",
   "execution_count": 324,
   "metadata": {
    "colab": {},
    "colab_type": "code",
    "id": "oHPSuMSDF1FD"
   },
   "outputs": [
    {
     "name": "stderr",
     "output_type": "stream",
     "text": [
      "/home/gavelkind/anaconda3/envs/exML/lib/python3.6/site-packages/sklearn/preprocessing/data.py:323: DataConversionWarning: Data with input dtype int64, float64 were all converted to float64 by MinMaxScaler.\n",
      "  return self.partial_fit(X, y)\n"
     ]
    }
   ],
   "source": [
    "scaler = MinMaxScaler(feature_range=(0, 1))\n",
    "# Scale both the training inputs and outputs\n",
    "scaled_train = scaler.fit_transform(trainset)\n",
    "#scaled_test = scaler.transform(test_df)"
   ]
  },
  {
   "cell_type": "code",
   "execution_count": 325,
   "metadata": {
    "colab": {
     "base_uri": "https://localhost:8080/",
     "height": 34
    },
    "colab_type": "code",
    "executionInfo": {
     "elapsed": 898,
     "status": "ok",
     "timestamp": 1527605871401,
     "user": {
      "displayName": "Robert John",
      "photoUrl": "//lh6.googleusercontent.com/-TN4Oz1jiPEs/AAAAAAAAAAI/AAAAAAAABbY/63KUi5jwjBM/s50-c-k-no/photo.jpg",
      "userId": "109381795230983416800"
     },
     "user_tz": -60
    },
    "id": "TpgnduGhIPq2",
    "outputId": "b86aa9b9-11ed-44b5-f0b7-eb61795b83c8"
   },
   "outputs": [
    {
     "name": "stdout",
     "output_type": "stream",
     "text": [
      "Note: median values were scaled by multiplying by 0.1516653537 and adding -0.159986\n"
     ]
    }
   ],
   "source": [
    "# Print out the adjustment that the scaler applied to the total_earnings column of data\n",
    "print(\"Note: median values were scaled by multiplying by {:.10f} and adding {:.6f}\".format(scaler.scale_[4], scaler.min_[4]))\n"
   ]
  },
  {
   "cell_type": "code",
   "execution_count": 326,
   "metadata": {
    "colab": {},
    "colab_type": "code",
    "id": "iilBgngrJXkU"
   },
   "outputs": [],
   "source": [
    "multiplied_by = scaler.scale_[4]\n",
    "added = scaler.min_[4]"
   ]
  },
  {
   "cell_type": "code",
   "execution_count": 327,
   "metadata": {
    "colab": {
     "base_uri": "https://localhost:8080/",
     "height": 34
    },
    "colab_type": "code",
    "executionInfo": {
     "elapsed": 659,
     "status": "ok",
     "timestamp": 1527605873263,
     "user": {
      "displayName": "Robert John",
      "photoUrl": "//lh6.googleusercontent.com/-TN4Oz1jiPEs/AAAAAAAAAAI/AAAAAAAABbY/63KUi5jwjBM/s50-c-k-no/photo.jpg",
      "userId": "109381795230983416800"
     },
     "user_tz": -60
    },
    "id": "UP_Ku3NjJlkp",
    "outputId": "605bdb59-4f42-4548-f059-fbfa88fa32b4"
   },
   "outputs": [
    {
     "name": "stdout",
     "output_type": "stream",
     "text": [
      "<class 'numpy.ndarray'>\n"
     ]
    }
   ],
   "source": [
    "print(type(scaled_train))"
   ]
  },
  {
   "cell_type": "code",
   "execution_count": 328,
   "metadata": {
    "colab": {},
    "colab_type": "code",
    "id": "Fr_YFCOOJzz-"
   },
   "outputs": [],
   "source": [
    "scaled_train_df = pd.DataFrame(scaled_train, columns=trainset.columns.values)"
   ]
  },
  {
   "cell_type": "code",
   "execution_count": 329,
   "metadata": {
    "colab": {},
    "colab_type": "code",
    "id": "i7hgv9KCKJpg"
   },
   "outputs": [
    {
     "data": {
      "text/html": [
       "<div>\n",
       "<style scoped>\n",
       "    .dataframe tbody tr th:only-of-type {\n",
       "        vertical-align: middle;\n",
       "    }\n",
       "\n",
       "    .dataframe tbody tr th {\n",
       "        vertical-align: top;\n",
       "    }\n",
       "\n",
       "    .dataframe thead th {\n",
       "        text-align: right;\n",
       "    }\n",
       "</style>\n",
       "<table border=\"1\" class=\"dataframe\">\n",
       "  <thead>\n",
       "    <tr style=\"text-align: right;\">\n",
       "      <th></th>\n",
       "      <th>Price</th>\n",
       "      <th>Season</th>\n",
       "      <th>FMC</th>\n",
       "      <th>CVGW</th>\n",
       "      <th>DE</th>\n",
       "      <th>Rating</th>\n",
       "    </tr>\n",
       "  </thead>\n",
       "  <tbody>\n",
       "    <tr>\n",
       "      <th>0</th>\n",
       "      <td>0.005993</td>\n",
       "      <td>0.5</td>\n",
       "      <td>0.053489</td>\n",
       "      <td>0.006096</td>\n",
       "      <td>0.000000</td>\n",
       "      <td>0.5</td>\n",
       "    </tr>\n",
       "    <tr>\n",
       "      <th>1</th>\n",
       "      <td>0.071660</td>\n",
       "      <td>1.0</td>\n",
       "      <td>0.056716</td>\n",
       "      <td>0.000067</td>\n",
       "      <td>0.005476</td>\n",
       "      <td>1.0</td>\n",
       "    </tr>\n",
       "    <tr>\n",
       "      <th>2</th>\n",
       "      <td>0.114607</td>\n",
       "      <td>1.0</td>\n",
       "      <td>0.039364</td>\n",
       "      <td>0.005654</td>\n",
       "      <td>0.011163</td>\n",
       "      <td>1.0</td>\n",
       "    </tr>\n",
       "    <tr>\n",
       "      <th>3</th>\n",
       "      <td>0.038702</td>\n",
       "      <td>1.0</td>\n",
       "      <td>0.039906</td>\n",
       "      <td>0.000901</td>\n",
       "      <td>0.011638</td>\n",
       "      <td>1.0</td>\n",
       "    </tr>\n",
       "    <tr>\n",
       "      <th>4</th>\n",
       "      <td>0.000000</td>\n",
       "      <td>1.0</td>\n",
       "      <td>0.038423</td>\n",
       "      <td>0.004454</td>\n",
       "      <td>0.017577</td>\n",
       "      <td>1.0</td>\n",
       "    </tr>\n",
       "  </tbody>\n",
       "</table>\n",
       "</div>"
      ],
      "text/plain": [
       "      Price  Season       FMC      CVGW        DE  Rating\n",
       "0  0.005993     0.5  0.053489  0.006096  0.000000     0.5\n",
       "1  0.071660     1.0  0.056716  0.000067  0.005476     1.0\n",
       "2  0.114607     1.0  0.039364  0.005654  0.011163     1.0\n",
       "3  0.038702     1.0  0.039906  0.000901  0.011638     1.0\n",
       "4  0.000000     1.0  0.038423  0.004454  0.017577     1.0"
      ]
     },
     "execution_count": 329,
     "metadata": {},
     "output_type": "execute_result"
    }
   ],
   "source": [
    "scaled_train_df.head()"
   ]
  },
  {
   "cell_type": "markdown",
   "metadata": {
    "colab_type": "text",
    "id": "SIIYH20PKK5l"
   },
   "source": [
    "# Let't build our tf.keras model"
   ]
  },
  {
   "cell_type": "code",
   "execution_count": 330,
   "metadata": {
    "colab": {},
    "colab_type": "code",
    "id": "kn9zJPk7Kv8v"
   },
   "outputs": [],
   "source": [
    "model = tf.keras.Sequential()"
   ]
  },
  {
   "cell_type": "code",
   "execution_count": 331,
   "metadata": {
    "colab": {},
    "colab_type": "code",
    "id": "Al3rtKN8Lzks"
   },
   "outputs": [],
   "source": [
    "model.add(tf.keras.layers.Dense(50, activation='relu'))\n",
    "model.add(tf.keras.layers.Dense(100, activation='relu'))\n",
    "model.add(tf.keras.layers.Dense(50, activation='relu'))\n",
    "model.add(tf.keras.layers.Dense(1))"
   ]
  },
  {
   "cell_type": "code",
   "execution_count": 332,
   "metadata": {
    "colab": {},
    "colab_type": "code",
    "id": "wLCa6UxaPcvw"
   },
   "outputs": [],
   "source": [
    "model.compile(loss='mean_squared_error', optimizer='adam')"
   ]
  },
  {
   "cell_type": "code",
   "execution_count": 333,
   "metadata": {
    "colab": {},
    "colab_type": "code",
    "id": "c3L5qZnARFTr"
   },
   "outputs": [],
   "source": [
    "X = scaled_train_df.values\n",
    "Y = scaled_train_df[['Price'][:]].values\n",
    "#old: X = scaled_train_df.drop(target, axis=1).values\n",
    "#Y = scaled_train_df[[target]].values"
   ]
  },
  {
   "cell_type": "code",
   "execution_count": 334,
   "metadata": {
    "colab": {
     "base_uri": "https://localhost:8080/",
     "height": 1734
    },
    "colab_type": "code",
    "executionInfo": {
     "elapsed": 2377,
     "status": "ok",
     "timestamp": 1527605883265,
     "user": {
      "displayName": "Robert John",
      "photoUrl": "//lh6.googleusercontent.com/-TN4Oz1jiPEs/AAAAAAAAAAI/AAAAAAAABbY/63KUi5jwjBM/s50-c-k-no/photo.jpg",
      "userId": "109381795230983416800"
     },
     "user_tz": -60
    },
    "id": "p-8RTtARRxZM",
    "outputId": "372c43c6-bb94-4256-b616-33c4687209d2",
    "scrolled": true
   },
   "outputs": [
    {
     "name": "stdout",
     "output_type": "stream",
     "text": [
      "Epoch 1/50\n",
      " - 0s - loss: 0.0621\n",
      "Epoch 2/50\n",
      " - 0s - loss: 0.0338\n",
      "Epoch 3/50\n",
      " - 0s - loss: 0.0185\n",
      "Epoch 4/50\n",
      " - 0s - loss: 0.0148\n",
      "Epoch 5/50\n",
      " - 0s - loss: 0.0087\n",
      "Epoch 6/50\n",
      " - 0s - loss: 0.0049\n",
      "Epoch 7/50\n",
      " - 0s - loss: 0.0026\n",
      "Epoch 8/50\n",
      " - 0s - loss: 0.0015\n",
      "Epoch 9/50\n",
      " - 0s - loss: 0.0011\n",
      "Epoch 10/50\n",
      " - 0s - loss: 7.8707e-04\n",
      "Epoch 11/50\n",
      " - 0s - loss: 4.4615e-04\n",
      "Epoch 12/50\n",
      " - 0s - loss: 2.7401e-04\n",
      "Epoch 13/50\n",
      " - 0s - loss: 1.9649e-04\n",
      "Epoch 14/50\n",
      " - 0s - loss: 1.4062e-04\n",
      "Epoch 15/50\n",
      " - 0s - loss: 2.3860e-04\n",
      "Epoch 16/50\n",
      " - 0s - loss: 1.4374e-04\n",
      "Epoch 17/50\n",
      " - 0s - loss: 9.7706e-05\n",
      "Epoch 18/50\n",
      " - 0s - loss: 6.8408e-05\n",
      "Epoch 19/50\n",
      " - 0s - loss: 6.2812e-05\n",
      "Epoch 20/50\n",
      " - 0s - loss: 5.7808e-05\n",
      "Epoch 21/50\n",
      " - 0s - loss: 5.0101e-05\n",
      "Epoch 22/50\n",
      " - 0s - loss: 5.2582e-05\n",
      "Epoch 23/50\n",
      " - 0s - loss: 4.4178e-05\n",
      "Epoch 24/50\n",
      " - 0s - loss: 4.4768e-05\n",
      "Epoch 25/50\n",
      " - 0s - loss: 4.0394e-05\n",
      "Epoch 26/50\n",
      " - 0s - loss: 3.6919e-05\n",
      "Epoch 27/50\n",
      " - 0s - loss: 3.6100e-05\n",
      "Epoch 28/50\n",
      " - 0s - loss: 3.2501e-05\n",
      "Epoch 29/50\n",
      " - 0s - loss: 3.4795e-05\n",
      "Epoch 30/50\n",
      " - 0s - loss: 3.8940e-05\n",
      "Epoch 31/50\n",
      " - 0s - loss: 3.0473e-05\n",
      "Epoch 32/50\n",
      " - 0s - loss: 3.0721e-05\n",
      "Epoch 33/50\n",
      " - 0s - loss: 4.3085e-05\n",
      "Epoch 34/50\n",
      " - 0s - loss: 3.3582e-05\n",
      "Epoch 35/50\n",
      " - 0s - loss: 3.2840e-05\n",
      "Epoch 36/50\n",
      " - 0s - loss: 3.8652e-05\n",
      "Epoch 37/50\n",
      " - 0s - loss: 3.4625e-05\n",
      "Epoch 38/50\n",
      " - 0s - loss: 4.0740e-05\n",
      "Epoch 39/50\n",
      " - 0s - loss: 3.2938e-05\n",
      "Epoch 40/50\n",
      " - 0s - loss: 2.9117e-05\n",
      "Epoch 41/50\n",
      " - 0s - loss: 3.8138e-05\n",
      "Epoch 42/50\n",
      " - 0s - loss: 2.3676e-05\n",
      "Epoch 43/50\n",
      " - 0s - loss: 2.0582e-05\n",
      "Epoch 44/50\n",
      " - 0s - loss: 2.1748e-05\n",
      "Epoch 45/50\n",
      " - 0s - loss: 2.9419e-05\n",
      "Epoch 46/50\n",
      " - 0s - loss: 2.9690e-05\n",
      "Epoch 47/50\n",
      " - 0s - loss: 2.2952e-05\n",
      "Epoch 48/50\n",
      " - 0s - loss: 1.7253e-05\n",
      "Epoch 49/50\n",
      " - 0s - loss: 1.6444e-05\n",
      "Epoch 50/50\n",
      " - 0s - loss: 1.7286e-05\n"
     ]
    },
    {
     "data": {
      "text/plain": [
       "<tensorflow.python.keras.callbacks.History at 0x7fd4c822f9e8>"
      ]
     },
     "execution_count": 334,
     "metadata": {},
     "output_type": "execute_result"
    }
   ],
   "source": [
    "# Train the model\n",
    "model.fit(\n",
    "    X[10:],\n",
    "    Y[10:],\n",
    "    epochs=50,\n",
    "    shuffle=True,\n",
    "    verbose=2\n",
    ")"
   ]
  },
  {
   "cell_type": "code",
   "execution_count": 335,
   "metadata": {
    "colab": {
     "base_uri": "https://localhost:8080/",
     "height": 34
    },
    "colab_type": "code",
    "executionInfo": {
     "elapsed": 860,
     "status": "ok",
     "timestamp": 1527605884168,
     "user": {
      "displayName": "Robert John",
      "photoUrl": "//lh6.googleusercontent.com/-TN4Oz1jiPEs/AAAAAAAAAAI/AAAAAAAABbY/63KUi5jwjBM/s50-c-k-no/photo.jpg",
      "userId": "109381795230983416800"
     },
     "user_tz": -60
    },
    "id": "ktqhbkLfSetW",
    "outputId": "cc31fdcc-f368-443d-e560-d6e4ccc98a77"
   },
   "outputs": [
    {
     "name": "stdout",
     "output_type": "stream",
     "text": [
      "The mean squared error (MSE) for the test data set is: 3.2102550903800875e-05\n"
     ]
    }
   ],
   "source": [
    "test_error_rate = model.evaluate(X[:10], Y[:10], verbose=0)\n",
    "print(\"The mean squared error (MSE) for the test data set is: {}\".format(test_error_rate))"
   ]
  },
  {
   "cell_type": "code",
   "execution_count": 336,
   "metadata": {
    "colab": {},
    "colab_type": "code",
    "id": "yz4g76YCTAuP"
   },
   "outputs": [],
   "source": [
    "prediction = model.predict(X[:1])"
   ]
  },
  {
   "cell_type": "code",
   "execution_count": 337,
   "metadata": {
    "colab": {
     "base_uri": "https://localhost:8080/",
     "height": 51
    },
    "colab_type": "code",
    "executionInfo": {
     "elapsed": 1176,
     "status": "ok",
     "timestamp": 1527605886564,
     "user": {
      "displayName": "Robert John",
      "photoUrl": "//lh6.googleusercontent.com/-TN4Oz1jiPEs/AAAAAAAAAAI/AAAAAAAABbY/63KUi5jwjBM/s50-c-k-no/photo.jpg",
      "userId": "109381795230983416800"
     },
     "user_tz": -60
    },
    "id": "jeOXwalhUBcg",
    "outputId": "ed278a65-d8e0-48e8-f9e2-e67b06b914a5"
   },
   "outputs": [
    {
     "name": "stdout",
     "output_type": "stream",
     "text": [
      "Prediction with scaling - 0.0029892059974372387\n",
      "Price Prediction  - $1.0745707891492378\n"
     ]
    }
   ],
   "source": [
    "y_0 = prediction[0][0]\n",
    "print('Prediction with scaling - {}'.format(y_0))\n",
    "y_0 -= added\n",
    "y_0 /= multiplied_by\n",
    "print(\"Price Prediction  - ${}\".format(y_0))"
   ]
  },
  {
   "cell_type": "code",
   "execution_count": 338,
   "metadata": {
    "colab": {
     "base_uri": "https://localhost:8080/",
     "height": 51
    },
    "colab_type": "code",
    "executionInfo": {
     "elapsed": 1344,
     "status": "ok",
     "timestamp": 1527605888443,
     "user": {
      "displayName": "Robert John",
      "photoUrl": "//lh6.googleusercontent.com/-TN4Oz1jiPEs/AAAAAAAAAAI/AAAAAAAABbY/63KUi5jwjBM/s50-c-k-no/photo.jpg",
      "userId": "109381795230983416800"
     },
     "user_tz": -60
    },
    "id": "RJ93Me1UVBWY",
    "outputId": "561996d3-f714-477b-d95a-8923b58c19a5"
   },
   "outputs": [
    {
     "name": "stdout",
     "output_type": "stream",
     "text": [
      "Ground truth with scaling - [0.00599251]\n",
      "Ground Truth Price - $[1.09437296]\n"
     ]
    }
   ],
   "source": [
    "Y_0 = Y[0]\n",
    "print('Ground truth with scaling - {}'.format(Y_0))\n",
    "Y_0 -= added\n",
    "Y_0 /= multiplied_by\n",
    "\n",
    "print('Ground Truth Price - ${}'.format(Y_0))"
   ]
  },
  {
   "cell_type": "markdown",
   "metadata": {
    "colab_type": "text",
    "id": "xkl-tyMQ2uV5"
   },
   "source": [
    "# tf.estimator\n",
    "## with numpy"
   ]
  },
  {
   "cell_type": "code",
   "execution_count": 339,
   "metadata": {
    "colab": {},
    "colab_type": "code",
    "id": "Kp5ujLReX-iS"
   },
   "outputs": [],
   "source": [
    "# crim = train_df['crim'].values\n",
    "# zn = train_df['zn'].values\n",
    "# indus = train_df['indus'].values\n",
    "# chas = train_df['chas'].values\n",
    "# nox = train_df['nox'].values\n",
    "# rm = train_df['rm'].values\n",
    "# age = train_df['age'].values\n",
    "# dis = train_df['dis'].values\n",
    "# rad = train_df['rad'].values\n",
    "# tax = train_df['tax'].values\n",
    "# ptratio = train_df['ptratio'].values\n",
    "# black = train_df['black'].values\n",
    "# lstat = train_df['lstat'].values\n",
    "# medv = train_df['medv'].values\n",
    "price = train_df['Price']\n",
    "season = train_df['Season']\n",
    "fmc = train_df['FMC']\n",
    "cvgw = train_df['CVGW']\n",
    "de = train_df['DE']"
   ]
  },
  {
   "cell_type": "code",
   "execution_count": 340,
   "metadata": {
    "colab": {},
    "colab_type": "code",
    "id": "w7RrLGer4GsK"
   },
   "outputs": [],
   "source": [
    "x_dict = {\n",
    "    'Price': price,\n",
    "    'Season': season,\n",
    "    'FMC': fmc,\n",
    "    'CVGW': cvgw,\n",
    "    'DE': de,\n",
    "}"
   ]
  },
  {
   "cell_type": "code",
   "execution_count": 341,
   "metadata": {
    "colab": {},
    "colab_type": "code",
    "id": "iBeKcH7x6iJ9"
   },
   "outputs": [],
   "source": [
    "def np_training_input_fn(x, y):\n",
    "  return tf.estimator.inputs.numpy_input_fn(\n",
    "      x= x,\n",
    "      y= y,\n",
    "      batch_size= 32,\n",
    "      num_epochs= 5, # this way you can leave out steps from training\n",
    "      shuffle= True,\n",
    "      queue_capacity= 5000\n",
    "  )"
   ]
  },
  {
   "cell_type": "code",
   "execution_count": 342,
   "metadata": {
    "colab": {},
    "colab_type": "code",
    "id": "9XEtRPIg7XbM"
   },
   "outputs": [],
   "source": [
    "feature_cols = [tf.feature_column.numeric_column(k) for k in x_dict.keys()]"
   ]
  },
  {
   "cell_type": "code",
   "execution_count": 343,
   "metadata": {
    "colab": {
     "base_uri": "https://localhost:8080/",
     "height": 88
    },
    "colab_type": "code",
    "executionInfo": {
     "elapsed": 1120,
     "status": "ok",
     "timestamp": 1535300158084,
     "user": {
      "displayName": "Robert John",
      "photoUrl": "//lh6.googleusercontent.com/-TN4Oz1jiPEs/AAAAAAAAAAI/AAAAAAAAHe0/G8yetdDySy8/s50-c-k-no/photo.jpg",
      "userId": "109381795230983416800"
     },
     "user_tz": -60
    },
    "id": "kc4PPPeoAhdL",
    "outputId": "0f08b4f1-f5a1-4495-c1fc-6fd1679eae04"
   },
   "outputs": [
    {
     "name": "stdout",
     "output_type": "stream",
     "text": [
      "INFO:tensorflow:Using default config.\n",
      "WARNING:tensorflow:Using temporary folder as model directory: /tmp/tmpbxennyj4\n",
      "INFO:tensorflow:Using config: {'_model_dir': '/tmp/tmpbxennyj4', '_tf_random_seed': None, '_save_summary_steps': 100, '_save_checkpoints_steps': None, '_save_checkpoints_secs': 600, '_session_config': None, '_keep_checkpoint_max': 5, '_keep_checkpoint_every_n_hours': 10000, '_log_step_count_steps': 100, '_train_distribute': None, '_device_fn': None, '_service': None, '_cluster_spec': <tensorflow.python.training.server_lib.ClusterSpec object at 0x7fd4e459afd0>, '_task_type': 'worker', '_task_id': 0, '_global_id_in_cluster': 0, '_master': '', '_evaluation_master': '', '_is_chief': True, '_num_ps_replicas': 0, '_num_worker_replicas': 1}\n"
     ]
    }
   ],
   "source": [
    "lin_model = tf.estimator.LinearRegressor(feature_columns=feature_cols)"
   ]
  },
  {
   "cell_type": "code",
   "execution_count": 344,
   "metadata": {
    "colab": {
     "base_uri": "https://localhost:8080/",
     "height": 204
    },
    "colab_type": "code",
    "executionInfo": {
     "elapsed": 11673,
     "status": "ok",
     "timestamp": 1535300332219,
     "user": {
      "displayName": "Robert John",
      "photoUrl": "//lh6.googleusercontent.com/-TN4Oz1jiPEs/AAAAAAAAAAI/AAAAAAAAHe0/G8yetdDySy8/s50-c-k-no/photo.jpg",
      "userId": "109381795230983416800"
     },
     "user_tz": -60
    },
    "id": "40xfWM5ABT2h",
    "outputId": "3c07e8ea-034e-426d-f1ca-a682dc6fe129"
   },
   "outputs": [
    {
     "name": "stdout",
     "output_type": "stream",
     "text": [
      "INFO:tensorflow:Calling model_fn.\n",
      "INFO:tensorflow:Done calling model_fn.\n",
      "INFO:tensorflow:Create CheckpointSaverHook.\n",
      "INFO:tensorflow:Graph was finalized.\n",
      "INFO:tensorflow:Running local_init_op.\n",
      "INFO:tensorflow:Done running local_init_op.\n",
      "INFO:tensorflow:Saving checkpoints for 0 into /tmp/tmpbxennyj4/model.ckpt.\n",
      "INFO:tensorflow:loss = 1627944.1, step = 1\n",
      "INFO:tensorflow:Saving checkpoints for 10 into /tmp/tmpbxennyj4/model.ckpt.\n",
      "INFO:tensorflow:Loss for final step: 143487.61.\n"
     ]
    },
    {
     "data": {
      "text/plain": [
       "<tensorflow.python.estimator.canned.linear.LinearRegressor at 0x7fd4e459abe0>"
      ]
     },
     "execution_count": 344,
     "metadata": {},
     "output_type": "execute_result"
    }
   ],
   "source": [
    "lin_model.train(np_training_input_fn(x_dict, price), steps=10)"
   ]
  },
  {
   "cell_type": "code",
   "execution_count": null,
   "metadata": {
    "colab": {},
    "colab_type": "code",
    "id": "-DHucPYnB3J3"
   },
   "outputs": [],
   "source": []
  },
  {
   "cell_type": "markdown",
   "metadata": {
    "colab_type": "text",
    "id": "vYVAoDKMDf41"
   },
   "source": [
    "# tf.estimator\n",
    "## with pandas"
   ]
  },
  {
   "cell_type": "code",
   "execution_count": 345,
   "metadata": {
    "colab": {},
    "colab_type": "code",
    "id": "tByRl526Dibb"
   },
   "outputs": [],
   "source": [
    "def pd_input_fn(df, y_label):\n",
    "  return tf.estimator.inputs.pandas_input_fn(\n",
    "      x=df,\n",
    "      y=df[y_label],\n",
    "      batch_size = 32,\n",
    "      num_epochs = 5,\n",
    "      shuffle = True,\n",
    "      queue_capacity = 1000,\n",
    "      num_threads = 1\n",
    "  )"
   ]
  },
  {
   "cell_type": "code",
   "execution_count": 346,
   "metadata": {
    "colab": {
     "base_uri": "https://localhost:8080/",
     "height": 88
    },
    "colab_type": "code",
    "executionInfo": {
     "elapsed": 807,
     "status": "ok",
     "timestamp": 1535300961875,
     "user": {
      "displayName": "Robert John",
      "photoUrl": "//lh6.googleusercontent.com/-TN4Oz1jiPEs/AAAAAAAAAAI/AAAAAAAAHe0/G8yetdDySy8/s50-c-k-no/photo.jpg",
      "userId": "109381795230983416800"
     },
     "user_tz": -60
    },
    "id": "rX0fdJjXEOlZ",
    "outputId": "213eae9e-fef0-4c67-b26f-2f2d521c9db3"
   },
   "outputs": [
    {
     "name": "stdout",
     "output_type": "stream",
     "text": [
      "INFO:tensorflow:Using default config.\n",
      "WARNING:tensorflow:Using temporary folder as model directory: /tmp/tmp6_oh6hpw\n",
      "INFO:tensorflow:Using config: {'_model_dir': '/tmp/tmp6_oh6hpw', '_tf_random_seed': None, '_save_summary_steps': 100, '_save_checkpoints_steps': None, '_save_checkpoints_secs': 600, '_session_config': None, '_keep_checkpoint_max': 5, '_keep_checkpoint_every_n_hours': 10000, '_log_step_count_steps': 100, '_train_distribute': None, '_device_fn': None, '_service': None, '_cluster_spec': <tensorflow.python.training.server_lib.ClusterSpec object at 0x7fd4e459a6d8>, '_task_type': 'worker', '_task_id': 0, '_global_id_in_cluster': 0, '_master': '', '_evaluation_master': '', '_is_chief': True, '_num_ps_replicas': 0, '_num_worker_replicas': 1}\n"
     ]
    }
   ],
   "source": [
    "lin_model = tf.estimator.LinearRegressor(feature_columns=feature_cols)"
   ]
  },
  {
   "cell_type": "code",
   "execution_count": 347,
   "metadata": {
    "colab": {
     "base_uri": "https://localhost:8080/",
     "height": 204
    },
    "colab_type": "code",
    "executionInfo": {
     "elapsed": 3254,
     "status": "ok",
     "timestamp": 1535301001375,
     "user": {
      "displayName": "Robert John",
      "photoUrl": "//lh6.googleusercontent.com/-TN4Oz1jiPEs/AAAAAAAAAAI/AAAAAAAAHe0/G8yetdDySy8/s50-c-k-no/photo.jpg",
      "userId": "109381795230983416800"
     },
     "user_tz": -60
    },
    "id": "vlMX0pLmEYLH",
    "outputId": "04724504-2dc3-442e-c8e1-7ea4c15c56b9"
   },
   "outputs": [
    {
     "name": "stdout",
     "output_type": "stream",
     "text": [
      "INFO:tensorflow:Calling model_fn.\n",
      "INFO:tensorflow:Done calling model_fn.\n",
      "INFO:tensorflow:Create CheckpointSaverHook.\n",
      "INFO:tensorflow:Graph was finalized.\n",
      "INFO:tensorflow:Running local_init_op.\n",
      "INFO:tensorflow:Done running local_init_op.\n",
      "INFO:tensorflow:Saving checkpoints for 0 into /tmp/tmp6_oh6hpw/model.ckpt.\n",
      "INFO:tensorflow:loss = 1200210.0, step = 1\n",
      "INFO:tensorflow:Saving checkpoints for 10 into /tmp/tmp6_oh6hpw/model.ckpt.\n",
      "INFO:tensorflow:Loss for final step: 66355.19.\n"
     ]
    },
    {
     "data": {
      "text/plain": [
       "<tensorflow.python.estimator.canned.linear.LinearRegressor at 0x7fd4e459a7f0>"
      ]
     },
     "execution_count": 347,
     "metadata": {},
     "output_type": "execute_result"
    }
   ],
   "source": [
    "lin_model.train(pd_input_fn(train_df, 'Price'), steps=10)"
   ]
  },
  {
   "cell_type": "code",
   "execution_count": 348,
   "metadata": {
    "colab": {
     "base_uri": "https://localhost:8080/",
     "height": 238
    },
    "colab_type": "code",
    "executionInfo": {
     "elapsed": 741,
     "status": "ok",
     "timestamp": 1535303358204,
     "user": {
      "displayName": "Robert John",
      "photoUrl": "//lh6.googleusercontent.com/-TN4Oz1jiPEs/AAAAAAAAAAI/AAAAAAAAHe0/G8yetdDySy8/s50-c-k-no/photo.jpg",
      "userId": "109381795230983416800"
     },
     "user_tz": -60
    },
    "id": "z7hq7JKOEeYl",
    "outputId": "786d4e09-40ec-47ec-ef8c-ee865ae559dd"
   },
   "outputs": [
    {
     "data": {
      "text/plain": [
       "dict_keys(['Price', 'Season', 'FMC', 'CVGW', 'DE'])"
      ]
     },
     "execution_count": 348,
     "metadata": {},
     "output_type": "execute_result"
    }
   ],
   "source": [
    "x_dict.keys()"
   ]
  },
  {
   "cell_type": "code",
   "execution_count": null,
   "metadata": {
    "colab": {},
    "colab_type": "code",
    "id": "cJs-_JWCNhOw"
   },
   "outputs": [],
   "source": []
  },
  {
   "cell_type": "code",
   "execution_count": null,
   "metadata": {},
   "outputs": [],
   "source": []
  }
 ],
 "metadata": {
  "colab": {
   "name": "Boston tf_keras.ipynb",
   "provenance": [],
   "version": "0.3.2"
  },
  "kernelspec": {
   "display_name": "Python 3",
   "language": "python",
   "name": "python3"
  },
  "language_info": {
   "codemirror_mode": {
    "name": "ipython",
    "version": 3
   },
   "file_extension": ".py",
   "mimetype": "text/x-python",
   "name": "python",
   "nbconvert_exporter": "python",
   "pygments_lexer": "ipython3",
   "version": "3.6.8"
  }
 },
 "nbformat": 4,
 "nbformat_minor": 1
}
